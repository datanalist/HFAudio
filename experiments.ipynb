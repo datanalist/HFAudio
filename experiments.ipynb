{
 "cells": [
  {
   "cell_type": "code",
   "execution_count": 135,
   "metadata": {},
   "outputs": [],
   "source": [
    "import os\n",
    "from typing import List, Dict\n",
    "from datasets import Dataset, Audio\n",
    "import pandas as pd\n"
   ]
  },
  {
   "cell_type": "code",
   "execution_count": 200,
   "metadata": {},
   "outputs": [],
   "source": [
    "AUDIO_FOLDER = 'data/INPUT_ENG'"
   ]
  },
  {
   "cell_type": "code",
   "execution_count": 201,
   "metadata": {},
   "outputs": [],
   "source": [
    "def transform_folder_name(folder_name: str) -> str:\n",
    "    \"\"\"Преобразует имя папки в валидную форму\n",
    "\n",
    "    Args:\n",
    "        folder_name (str): [имя папки]\n",
    "    \"\"\"\n",
    "    folder_name = folder_name if folder_name[-1] == \"/\" else folder_name + \"/\"\n",
    "    return folder_name"
   ]
  },
  {
   "cell_type": "code",
   "execution_count": 229,
   "metadata": {},
   "outputs": [],
   "source": [
    "def get_files_from_folder(folder_path: str, is_relative: bool=False)-> List[str]:\n",
    "    \"\"\"Получить список файлов в каталоге\n",
    "    Args:\n",
    "        folder_path ([str]): [путь к каталогу]\n",
    "        is_relative ([bool], optional): [выдать относительные пути к файлам]. Defaults to False:bool.\n",
    "\n",
    "    Returns:\n",
    "        List[str]: [список с файлами]\n",
    "    \"\"\"\n",
    "    folder_path = transform_folder_name(folder_path)\n",
    "    files_list = []\n",
    "    \n",
    "    for root, _, files in os.walk(folder_path):\n",
    "        for file in files:\n",
    "            if is_relative:\n",
    "                files_list.append(file)\n",
    "            else:\n",
    "                files_list.append(os.path.join(root, file))\n",
    "    return files_list\n"
   ]
  },
  {
   "cell_type": "code",
   "execution_count": 230,
   "metadata": {},
   "outputs": [],
   "source": [
    "def create_dict_metadata(features: List[str], values:List[List[any]]) -> Dict[str, List[str]]:\n",
    "    \"\"\"Создать словарь с метаданными\n",
    "\n",
    "    Args:\n",
    "        columns ([List]): [columns for created metadata file]\n",
    "        col_values ([List[List]]): [values of their columns]\n",
    "\n",
    "    Returns:\n",
    "        Dict[str, List[str]]: [словарь с метаданными]\n",
    "    \"\"\"\n",
    "    len_for_padd = max([len(value) for value in values if value is not None])\n",
    "    for val in range(len(values)):\n",
    "        values[val] = values[val] if values[val] is not None else [\"Empty\"] * len_for_padd\n",
    "    return {features[i]: values[i] for i in range(len(features))}"
   ]
  },
  {
   "cell_type": "code",
   "execution_count": 234,
   "metadata": {},
   "outputs": [],
   "source": [
    "def create_metadatacsv(folder_path, metadata: Dict[List[str], List[any]]) -> str:\n",
    "    \"\"\"Создает файл с метаданными\n",
    "    Args:\n",
    "        folder_path ([str]): [путь, где будет лежать файл]\n",
    "        Dict[List[str], List[any]]: [признак: значения]\n",
    "        \n",
    "    Returns:\n",
    "        str: [путь до файла с метаданными]\n",
    "    \"\"\"\n",
    "    df = pd.DataFrame(metadata)\n",
    "    folder_path = transform_folder_name(folder_path)\n",
    "    metadata_path = folder_path + \"metadata.csv\"\n",
    "    if os.path.isfile(metadata_path):\n",
    "        os.remove(metadata_path)\n",
    "    df.to_csv(metadata_path, index=False, sep=\",\")\n",
    "    assert os.path.isfile(metadata_path), \"FIle was not created!\"\n",
    "    return metadata_path"
   ]
  },
  {
   "cell_type": "code",
   "execution_count": 235,
   "metadata": {},
   "outputs": [],
   "source": [
    "audio_files = get_files_from_folder(AUDIO_FOLDER, True)\n",
    "\n",
    "features = [\"file_name\"]\n",
    "feature_values = [audio_files]\n"
   ]
  },
  {
   "cell_type": "code",
   "execution_count": 236,
   "metadata": {},
   "outputs": [],
   "source": [
    "metadata = create_dict_metadata(features, feature_values)"
   ]
  },
  {
   "cell_type": "code",
   "execution_count": 237,
   "metadata": {},
   "outputs": [],
   "source": [
    "df = pd.read_csv(create_metadatacsv(AUDIO_FOLDER, metadata))"
   ]
  },
  {
   "cell_type": "code",
   "execution_count": 240,
   "metadata": {},
   "outputs": [
    {
     "data": {
      "text/plain": [
       "Dataset({\n",
       "    features: ['file_name'],\n",
       "    num_rows: 136\n",
       "})"
      ]
     },
     "execution_count": 240,
     "metadata": {},
     "output_type": "execute_result"
    }
   ],
   "source": [
    "audio_dataset = Dataset.from_dict(metadata).cast_column(\"file_name\", Audio())\n",
    "audio_dataset"
   ]
  },
  {
   "cell_type": "markdown",
   "metadata": {},
   "source": [
    "**С использованием metadata.csv**"
   ]
  },
  {
   "cell_type": "code",
   "execution_count": 241,
   "metadata": {},
   "outputs": [
    {
     "name": "stderr",
     "output_type": "stream",
     "text": [
      "Generating test split: 1 examples [00:00, 168.88 examples/s]\n"
     ]
    }
   ],
   "source": [
    "from datasets import load_dataset\n",
    "\n",
    "dataset = load_dataset(\"audiofolder\", data_dir=AUDIO_FOLDER)\n",
    "# OR by specifying the list of files\n",
    "# dataset = load_dataset(\"audiofolder\", data_files=[\"path/to/audio_1\", \"path/to/audio_2\", ..., \"path/to/audio_n\"])"
   ]
  },
  {
   "cell_type": "code",
   "execution_count": 242,
   "metadata": {},
   "outputs": [
    {
     "data": {
      "text/plain": [
       "DatasetDict({\n",
       "    test: Dataset({\n",
       "        features: ['audio'],\n",
       "        num_rows: 1\n",
       "    })\n",
       "})"
      ]
     },
     "execution_count": 242,
     "metadata": {},
     "output_type": "execute_result"
    }
   ],
   "source": [
    "dataset"
   ]
  }
 ],
 "metadata": {
  "kernelspec": {
   "display_name": ".venv",
   "language": "python",
   "name": "python3"
  },
  "language_info": {
   "codemirror_mode": {
    "name": "ipython",
    "version": 3
   },
   "file_extension": ".py",
   "mimetype": "text/x-python",
   "name": "python",
   "nbconvert_exporter": "python",
   "pygments_lexer": "ipython3",
   "version": "3.11.6"
  }
 },
 "nbformat": 4,
 "nbformat_minor": 2
}
